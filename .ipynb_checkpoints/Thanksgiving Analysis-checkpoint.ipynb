{
 "cells": [
  {
   "cell_type": "markdown",
   "metadata": {},
   "source": [
    "## Thanksgiving Dinner \n",
    " The dataset came from FiveThirtyEight, and can be found https://github.com/dataquestio/solutions/blob/master/Mission219Solution.ipynb. It contains 1058 responses to an online survey about what Americans eat for Thanksgiving dinner. Each survey respondent was asked questions about what they typically eat for Thanksgiving, along with some demographic questions, like their gender, income, and location. This dataset will allow us to discover regional and income-based patterns in what Americans eat for Thanksgiving dinner.\n",
    "\n"
   ]
  },
  {
   "cell_type": "code",
   "execution_count": 23,
   "metadata": {
    "scrolled": true
   },
   "outputs": [
    {
     "data": {
      "text/html": [
       "<div>\n",
       "<style>\n",
       "    .dataframe thead tr:only-child th {\n",
       "        text-align: right;\n",
       "    }\n",
       "\n",
       "    .dataframe thead th {\n",
       "        text-align: left;\n",
       "    }\n",
       "\n",
       "    .dataframe tbody tr th {\n",
       "        vertical-align: top;\n",
       "    }\n",
       "</style>\n",
       "<table border=\"1\" class=\"dataframe\">\n",
       "  <thead>\n",
       "    <tr style=\"text-align: right;\">\n",
       "      <th></th>\n",
       "      <th>RespondentID</th>\n",
       "      <th>Do you celebrate Thanksgiving?</th>\n",
       "      <th>What is typically the main dish at your Thanksgiving dinner?</th>\n",
       "      <th>What is typically the main dish at your Thanksgiving dinner? - Other (please specify)</th>\n",
       "      <th>How is the main dish typically cooked?</th>\n",
       "      <th>How is the main dish typically cooked? - Other (please specify)</th>\n",
       "      <th>What kind of stuffing/dressing do you typically have?</th>\n",
       "      <th>What kind of stuffing/dressing do you typically have? - Other (please specify)</th>\n",
       "      <th>What type of cranberry saucedo you typically have?</th>\n",
       "      <th>What type of cranberry saucedo you typically have? - Other (please specify)</th>\n",
       "      <th>Do you typically have gravy?</th>\n",
       "      <th>Which of these side dishes aretypically served at your Thanksgiving dinner? Please select all that apply. - Brussel sprouts</th>\n",
       "      <th>Which of these side dishes aretypically served at your Thanksgiving dinner? Please select all that apply. - Carrots</th>\n",
       "      <th>Which of these side dishes aretypically served at your Thanksgiving dinner? Please select all that apply. - Cauliflower</th>\n",
       "      <th>Which of these side dishes aretypically served at your Thanksgiving dinner? Please select all that apply. - Corn</th>\n",
       "      <th>Which of these side dishes aretypically served at your Thanksgiving dinner? Please select all that apply. - Cornbread</th>\n",
       "      <th>Which of these side dishes aretypically served at your Thanksgiving dinner? Please select all that apply. - Fruit salad</th>\n",
       "      <th>Which of these side dishes aretypically served at your Thanksgiving dinner? Please select all that apply. - Green beans/green bean casserole</th>\n",
       "      <th>Which of these side dishes aretypically served at your Thanksgiving dinner? Please select all that apply. - Macaroni and cheese</th>\n",
       "      <th>Which of these side dishes aretypically served at your Thanksgiving dinner? Please select all that apply. - Mashed potatoes</th>\n",
       "      <th>Which of these side dishes aretypically served at your Thanksgiving dinner? Please select all that apply. - Rolls/biscuits</th>\n",
       "      <th>Which of these side dishes aretypically served at your Thanksgiving dinner? Please select all that apply. - Squash</th>\n",
       "      <th>Which of these side dishes aretypically served at your Thanksgiving dinner? Please select all that apply. - Vegetable salad</th>\n",
       "      <th>Which of these side dishes aretypically served at your Thanksgiving dinner? Please select all that apply. - Yams/sweet potato casserole</th>\n",
       "      <th>Which of these side dishes aretypically served at your Thanksgiving dinner? Please select all that apply. - Other (please specify)</th>\n",
       "      <th>...</th>\n",
       "      <th>Which of these desserts do you typically have at Thanksgiving dinner? Please select all that apply.   - Blondies</th>\n",
       "      <th>Which of these desserts do you typically have at Thanksgiving dinner? Please select all that apply.   - Brownies</th>\n",
       "      <th>Which of these desserts do you typically have at Thanksgiving dinner? Please select all that apply.   - Carrot cake</th>\n",
       "      <th>Which of these desserts do you typically have at Thanksgiving dinner? Please select all that apply.   - Cheesecake</th>\n",
       "      <th>Which of these desserts do you typically have at Thanksgiving dinner? Please select all that apply.   - Cookies</th>\n",
       "      <th>Which of these desserts do you typically have at Thanksgiving dinner? Please select all that apply.   - Fudge</th>\n",
       "      <th>Which of these desserts do you typically have at Thanksgiving dinner? Please select all that apply.   - Ice cream</th>\n",
       "      <th>Which of these desserts do you typically have at Thanksgiving dinner? Please select all that apply.   - Peach cobbler</th>\n",
       "      <th>Which of these desserts do you typically have at Thanksgiving dinner? Please select all that apply.   - None</th>\n",
       "      <th>Which of these desserts do you typically have at Thanksgiving dinner? Please select all that apply.   - Other (please specify)</th>\n",
       "      <th>Which of these desserts do you typically have at Thanksgiving dinner? Please select all that apply.   - Other (please specify).1</th>\n",
       "      <th>Do you typically pray before or after the Thanksgiving meal?</th>\n",
       "      <th>How far will you travel for Thanksgiving?</th>\n",
       "      <th>Will you watch any of the following programs on Thanksgiving? Please select all that apply. - Macy's Parade</th>\n",
       "      <th>What's the age cutoff at your \"kids' table\" at Thanksgiving?</th>\n",
       "      <th>Have you ever tried to meet up with hometown friends on Thanksgiving night?</th>\n",
       "      <th>Have you ever attended a \"Friendsgiving?\"</th>\n",
       "      <th>Will you shop any Black Friday sales on Thanksgiving Day?</th>\n",
       "      <th>Do you work in retail?</th>\n",
       "      <th>Will you employer make you work on Black Friday?</th>\n",
       "      <th>How would you describe where you live?</th>\n",
       "      <th>Age</th>\n",
       "      <th>What is your gender?</th>\n",
       "      <th>How much total combined money did all members of your HOUSEHOLD earn last year?</th>\n",
       "      <th>US Region</th>\n",
       "    </tr>\n",
       "  </thead>\n",
       "  <tbody>\n",
       "    <tr>\n",
       "      <th>0</th>\n",
       "      <td>4337954960</td>\n",
       "      <td>Yes</td>\n",
       "      <td>Turkey</td>\n",
       "      <td>NaN</td>\n",
       "      <td>Baked</td>\n",
       "      <td>NaN</td>\n",
       "      <td>Bread-based</td>\n",
       "      <td>NaN</td>\n",
       "      <td>None</td>\n",
       "      <td>NaN</td>\n",
       "      <td>Yes</td>\n",
       "      <td>NaN</td>\n",
       "      <td>Carrots</td>\n",
       "      <td>NaN</td>\n",
       "      <td>NaN</td>\n",
       "      <td>NaN</td>\n",
       "      <td>NaN</td>\n",
       "      <td>Green beans/green bean casserole</td>\n",
       "      <td>Macaroni and cheese</td>\n",
       "      <td>Mashed potatoes</td>\n",
       "      <td>NaN</td>\n",
       "      <td>NaN</td>\n",
       "      <td>NaN</td>\n",
       "      <td>Yams/sweet potato casserole</td>\n",
       "      <td>NaN</td>\n",
       "      <td>...</td>\n",
       "      <td>NaN</td>\n",
       "      <td>NaN</td>\n",
       "      <td>NaN</td>\n",
       "      <td>Cheesecake</td>\n",
       "      <td>Cookies</td>\n",
       "      <td>NaN</td>\n",
       "      <td>Ice cream</td>\n",
       "      <td>NaN</td>\n",
       "      <td>NaN</td>\n",
       "      <td>NaN</td>\n",
       "      <td>NaN</td>\n",
       "      <td>Yes</td>\n",
       "      <td>Thanksgiving is local--it will take place in t...</td>\n",
       "      <td>NaN</td>\n",
       "      <td>12</td>\n",
       "      <td>Yes</td>\n",
       "      <td>No</td>\n",
       "      <td>No</td>\n",
       "      <td>No</td>\n",
       "      <td>NaN</td>\n",
       "      <td>Suburban</td>\n",
       "      <td>18 - 29</td>\n",
       "      <td>Male</td>\n",
       "      <td>$75,000 to $99,999</td>\n",
       "      <td>Middle Atlantic</td>\n",
       "    </tr>\n",
       "    <tr>\n",
       "      <th>1</th>\n",
       "      <td>4337951949</td>\n",
       "      <td>Yes</td>\n",
       "      <td>Turkey</td>\n",
       "      <td>NaN</td>\n",
       "      <td>Baked</td>\n",
       "      <td>NaN</td>\n",
       "      <td>Bread-based</td>\n",
       "      <td>NaN</td>\n",
       "      <td>Other (please specify)</td>\n",
       "      <td>Homemade cranberry gelatin ring</td>\n",
       "      <td>Yes</td>\n",
       "      <td>NaN</td>\n",
       "      <td>NaN</td>\n",
       "      <td>NaN</td>\n",
       "      <td>Corn</td>\n",
       "      <td>NaN</td>\n",
       "      <td>NaN</td>\n",
       "      <td>Green beans/green bean casserole</td>\n",
       "      <td>Macaroni and cheese</td>\n",
       "      <td>Mashed potatoes</td>\n",
       "      <td>Rolls/biscuits</td>\n",
       "      <td>NaN</td>\n",
       "      <td>Vegetable salad</td>\n",
       "      <td>Yams/sweet potato casserole</td>\n",
       "      <td>Other (please specify)</td>\n",
       "      <td>...</td>\n",
       "      <td>NaN</td>\n",
       "      <td>NaN</td>\n",
       "      <td>NaN</td>\n",
       "      <td>Cheesecake</td>\n",
       "      <td>Cookies</td>\n",
       "      <td>NaN</td>\n",
       "      <td>NaN</td>\n",
       "      <td>NaN</td>\n",
       "      <td>NaN</td>\n",
       "      <td>Other (please specify)</td>\n",
       "      <td>Jelly roll, sweet cheeseball, chocolate dipped...</td>\n",
       "      <td>Yes</td>\n",
       "      <td>Thanksgiving is out of town but not too far--i...</td>\n",
       "      <td>NaN</td>\n",
       "      <td>19</td>\n",
       "      <td>No</td>\n",
       "      <td>No</td>\n",
       "      <td>Yes</td>\n",
       "      <td>No</td>\n",
       "      <td>NaN</td>\n",
       "      <td>Rural</td>\n",
       "      <td>18 - 29</td>\n",
       "      <td>Female</td>\n",
       "      <td>$50,000 to $74,999</td>\n",
       "      <td>East South Central</td>\n",
       "    </tr>\n",
       "    <tr>\n",
       "      <th>2</th>\n",
       "      <td>4337935621</td>\n",
       "      <td>Yes</td>\n",
       "      <td>Turkey</td>\n",
       "      <td>NaN</td>\n",
       "      <td>Roasted</td>\n",
       "      <td>NaN</td>\n",
       "      <td>Rice-based</td>\n",
       "      <td>NaN</td>\n",
       "      <td>Homemade</td>\n",
       "      <td>NaN</td>\n",
       "      <td>Yes</td>\n",
       "      <td>Brussel sprouts</td>\n",
       "      <td>Carrots</td>\n",
       "      <td>Cauliflower</td>\n",
       "      <td>Corn</td>\n",
       "      <td>Cornbread</td>\n",
       "      <td>NaN</td>\n",
       "      <td>NaN</td>\n",
       "      <td>NaN</td>\n",
       "      <td>Mashed potatoes</td>\n",
       "      <td>Rolls/biscuits</td>\n",
       "      <td>NaN</td>\n",
       "      <td>Vegetable salad</td>\n",
       "      <td>NaN</td>\n",
       "      <td>NaN</td>\n",
       "      <td>...</td>\n",
       "      <td>NaN</td>\n",
       "      <td>Brownies</td>\n",
       "      <td>Carrot cake</td>\n",
       "      <td>NaN</td>\n",
       "      <td>Cookies</td>\n",
       "      <td>Fudge</td>\n",
       "      <td>Ice cream</td>\n",
       "      <td>NaN</td>\n",
       "      <td>NaN</td>\n",
       "      <td>NaN</td>\n",
       "      <td>NaN</td>\n",
       "      <td>Yes</td>\n",
       "      <td>Thanksgiving is local--it will take place in t...</td>\n",
       "      <td>NaN</td>\n",
       "      <td>13</td>\n",
       "      <td>Yes</td>\n",
       "      <td>Yes</td>\n",
       "      <td>Yes</td>\n",
       "      <td>No</td>\n",
       "      <td>NaN</td>\n",
       "      <td>Suburban</td>\n",
       "      <td>18 - 29</td>\n",
       "      <td>Male</td>\n",
       "      <td>$0 to $9,999</td>\n",
       "      <td>Mountain</td>\n",
       "    </tr>\n",
       "    <tr>\n",
       "      <th>3</th>\n",
       "      <td>4337933040</td>\n",
       "      <td>Yes</td>\n",
       "      <td>Turkey</td>\n",
       "      <td>NaN</td>\n",
       "      <td>Baked</td>\n",
       "      <td>NaN</td>\n",
       "      <td>Bread-based</td>\n",
       "      <td>NaN</td>\n",
       "      <td>Homemade</td>\n",
       "      <td>NaN</td>\n",
       "      <td>Yes</td>\n",
       "      <td>Brussel sprouts</td>\n",
       "      <td>NaN</td>\n",
       "      <td>NaN</td>\n",
       "      <td>NaN</td>\n",
       "      <td>Cornbread</td>\n",
       "      <td>NaN</td>\n",
       "      <td>NaN</td>\n",
       "      <td>NaN</td>\n",
       "      <td>Mashed potatoes</td>\n",
       "      <td>Rolls/biscuits</td>\n",
       "      <td>NaN</td>\n",
       "      <td>Vegetable salad</td>\n",
       "      <td>Yams/sweet potato casserole</td>\n",
       "      <td>NaN</td>\n",
       "      <td>...</td>\n",
       "      <td>NaN</td>\n",
       "      <td>NaN</td>\n",
       "      <td>NaN</td>\n",
       "      <td>NaN</td>\n",
       "      <td>NaN</td>\n",
       "      <td>NaN</td>\n",
       "      <td>NaN</td>\n",
       "      <td>NaN</td>\n",
       "      <td>None</td>\n",
       "      <td>NaN</td>\n",
       "      <td>NaN</td>\n",
       "      <td>No</td>\n",
       "      <td>Thanksgiving is local--it will take place in t...</td>\n",
       "      <td>NaN</td>\n",
       "      <td>10 or younger</td>\n",
       "      <td>Yes</td>\n",
       "      <td>No</td>\n",
       "      <td>No</td>\n",
       "      <td>No</td>\n",
       "      <td>NaN</td>\n",
       "      <td>Urban</td>\n",
       "      <td>30 - 44</td>\n",
       "      <td>Male</td>\n",
       "      <td>$200,000 and up</td>\n",
       "      <td>Pacific</td>\n",
       "    </tr>\n",
       "    <tr>\n",
       "      <th>4</th>\n",
       "      <td>4337931983</td>\n",
       "      <td>Yes</td>\n",
       "      <td>Tofurkey</td>\n",
       "      <td>NaN</td>\n",
       "      <td>Baked</td>\n",
       "      <td>NaN</td>\n",
       "      <td>Bread-based</td>\n",
       "      <td>NaN</td>\n",
       "      <td>Canned</td>\n",
       "      <td>NaN</td>\n",
       "      <td>Yes</td>\n",
       "      <td>Brussel sprouts</td>\n",
       "      <td>NaN</td>\n",
       "      <td>NaN</td>\n",
       "      <td>NaN</td>\n",
       "      <td>Cornbread</td>\n",
       "      <td>NaN</td>\n",
       "      <td>NaN</td>\n",
       "      <td>NaN</td>\n",
       "      <td>Mashed potatoes</td>\n",
       "      <td>Rolls/biscuits</td>\n",
       "      <td>Squash</td>\n",
       "      <td>Vegetable salad</td>\n",
       "      <td>Yams/sweet potato casserole</td>\n",
       "      <td>NaN</td>\n",
       "      <td>...</td>\n",
       "      <td>NaN</td>\n",
       "      <td>NaN</td>\n",
       "      <td>NaN</td>\n",
       "      <td>NaN</td>\n",
       "      <td>NaN</td>\n",
       "      <td>NaN</td>\n",
       "      <td>NaN</td>\n",
       "      <td>NaN</td>\n",
       "      <td>None</td>\n",
       "      <td>NaN</td>\n",
       "      <td>NaN</td>\n",
       "      <td>No</td>\n",
       "      <td>Thanksgiving is out of town but not too far--i...</td>\n",
       "      <td>NaN</td>\n",
       "      <td>10 or younger</td>\n",
       "      <td>Yes</td>\n",
       "      <td>No</td>\n",
       "      <td>No</td>\n",
       "      <td>No</td>\n",
       "      <td>NaN</td>\n",
       "      <td>Urban</td>\n",
       "      <td>30 - 44</td>\n",
       "      <td>Male</td>\n",
       "      <td>$100,000 to $124,999</td>\n",
       "      <td>Pacific</td>\n",
       "    </tr>\n",
       "  </tbody>\n",
       "</table>\n",
       "<p>5 rows × 65 columns</p>\n",
       "</div>"
      ],
      "text/plain": [
       "   RespondentID Do you celebrate Thanksgiving?  \\\n",
       "0    4337954960                            Yes   \n",
       "1    4337951949                            Yes   \n",
       "2    4337935621                            Yes   \n",
       "3    4337933040                            Yes   \n",
       "4    4337931983                            Yes   \n",
       "\n",
       "  What is typically the main dish at your Thanksgiving dinner?  \\\n",
       "0                                             Turkey             \n",
       "1                                             Turkey             \n",
       "2                                             Turkey             \n",
       "3                                             Turkey             \n",
       "4                                           Tofurkey             \n",
       "\n",
       "  What is typically the main dish at your Thanksgiving dinner? - Other (please specify)  \\\n",
       "0                                                NaN                                      \n",
       "1                                                NaN                                      \n",
       "2                                                NaN                                      \n",
       "3                                                NaN                                      \n",
       "4                                                NaN                                      \n",
       "\n",
       "  How is the main dish typically cooked?  \\\n",
       "0                                  Baked   \n",
       "1                                  Baked   \n",
       "2                                Roasted   \n",
       "3                                  Baked   \n",
       "4                                  Baked   \n",
       "\n",
       "  How is the main dish typically cooked? - Other (please specify)  \\\n",
       "0                                                NaN                \n",
       "1                                                NaN                \n",
       "2                                                NaN                \n",
       "3                                                NaN                \n",
       "4                                                NaN                \n",
       "\n",
       "  What kind of stuffing/dressing do you typically have?  \\\n",
       "0                                        Bread-based      \n",
       "1                                        Bread-based      \n",
       "2                                         Rice-based      \n",
       "3                                        Bread-based      \n",
       "4                                        Bread-based      \n",
       "\n",
       "  What kind of stuffing/dressing do you typically have? - Other (please specify)  \\\n",
       "0                                                NaN                               \n",
       "1                                                NaN                               \n",
       "2                                                NaN                               \n",
       "3                                                NaN                               \n",
       "4                                                NaN                               \n",
       "\n",
       "  What type of cranberry saucedo you typically have?  \\\n",
       "0                                               None   \n",
       "1                             Other (please specify)   \n",
       "2                                           Homemade   \n",
       "3                                           Homemade   \n",
       "4                                             Canned   \n",
       "\n",
       "  What type of cranberry saucedo you typically have? - Other (please specify)  \\\n",
       "0                                                NaN                            \n",
       "1                    Homemade cranberry gelatin ring                            \n",
       "2                                                NaN                            \n",
       "3                                                NaN                            \n",
       "4                                                NaN                            \n",
       "\n",
       "  Do you typically have gravy?  \\\n",
       "0                          Yes   \n",
       "1                          Yes   \n",
       "2                          Yes   \n",
       "3                          Yes   \n",
       "4                          Yes   \n",
       "\n",
       "  Which of these side dishes aretypically served at your Thanksgiving dinner? Please select all that apply. - Brussel sprouts  \\\n",
       "0                                                NaN                                                                            \n",
       "1                                                NaN                                                                            \n",
       "2                                    Brussel sprouts                                                                            \n",
       "3                                    Brussel sprouts                                                                            \n",
       "4                                    Brussel sprouts                                                                            \n",
       "\n",
       "  Which of these side dishes aretypically served at your Thanksgiving dinner? Please select all that apply. - Carrots  \\\n",
       "0                                            Carrots                                                                    \n",
       "1                                                NaN                                                                    \n",
       "2                                            Carrots                                                                    \n",
       "3                                                NaN                                                                    \n",
       "4                                                NaN                                                                    \n",
       "\n",
       "  Which of these side dishes aretypically served at your Thanksgiving dinner? Please select all that apply. - Cauliflower  \\\n",
       "0                                                NaN                                                                        \n",
       "1                                                NaN                                                                        \n",
       "2                                        Cauliflower                                                                        \n",
       "3                                                NaN                                                                        \n",
       "4                                                NaN                                                                        \n",
       "\n",
       "  Which of these side dishes aretypically served at your Thanksgiving dinner? Please select all that apply. - Corn  \\\n",
       "0                                                NaN                                                                 \n",
       "1                                               Corn                                                                 \n",
       "2                                               Corn                                                                 \n",
       "3                                                NaN                                                                 \n",
       "4                                                NaN                                                                 \n",
       "\n",
       "  Which of these side dishes aretypically served at your Thanksgiving dinner? Please select all that apply. - Cornbread  \\\n",
       "0                                                NaN                                                                      \n",
       "1                                                NaN                                                                      \n",
       "2                                          Cornbread                                                                      \n",
       "3                                          Cornbread                                                                      \n",
       "4                                          Cornbread                                                                      \n",
       "\n",
       "  Which of these side dishes aretypically served at your Thanksgiving dinner? Please select all that apply. - Fruit salad  \\\n",
       "0                                                NaN                                                                        \n",
       "1                                                NaN                                                                        \n",
       "2                                                NaN                                                                        \n",
       "3                                                NaN                                                                        \n",
       "4                                                NaN                                                                        \n",
       "\n",
       "  Which of these side dishes aretypically served at your Thanksgiving dinner? Please select all that apply. - Green beans/green bean casserole  \\\n",
       "0                   Green beans/green bean casserole                                                                                             \n",
       "1                   Green beans/green bean casserole                                                                                             \n",
       "2                                                NaN                                                                                             \n",
       "3                                                NaN                                                                                             \n",
       "4                                                NaN                                                                                             \n",
       "\n",
       "  Which of these side dishes aretypically served at your Thanksgiving dinner? Please select all that apply. - Macaroni and cheese  \\\n",
       "0                                Macaroni and cheese                                                                                \n",
       "1                                Macaroni and cheese                                                                                \n",
       "2                                                NaN                                                                                \n",
       "3                                                NaN                                                                                \n",
       "4                                                NaN                                                                                \n",
       "\n",
       "  Which of these side dishes aretypically served at your Thanksgiving dinner? Please select all that apply. - Mashed potatoes  \\\n",
       "0                                    Mashed potatoes                                                                            \n",
       "1                                    Mashed potatoes                                                                            \n",
       "2                                    Mashed potatoes                                                                            \n",
       "3                                    Mashed potatoes                                                                            \n",
       "4                                    Mashed potatoes                                                                            \n",
       "\n",
       "  Which of these side dishes aretypically served at your Thanksgiving dinner? Please select all that apply. - Rolls/biscuits  \\\n",
       "0                                                NaN                                                                           \n",
       "1                                     Rolls/biscuits                                                                           \n",
       "2                                     Rolls/biscuits                                                                           \n",
       "3                                     Rolls/biscuits                                                                           \n",
       "4                                     Rolls/biscuits                                                                           \n",
       "\n",
       "  Which of these side dishes aretypically served at your Thanksgiving dinner? Please select all that apply. - Squash  \\\n",
       "0                                                NaN                                                                   \n",
       "1                                                NaN                                                                   \n",
       "2                                                NaN                                                                   \n",
       "3                                                NaN                                                                   \n",
       "4                                             Squash                                                                   \n",
       "\n",
       "  Which of these side dishes aretypically served at your Thanksgiving dinner? Please select all that apply. - Vegetable salad  \\\n",
       "0                                                NaN                                                                            \n",
       "1                                    Vegetable salad                                                                            \n",
       "2                                    Vegetable salad                                                                            \n",
       "3                                    Vegetable salad                                                                            \n",
       "4                                    Vegetable salad                                                                            \n",
       "\n",
       "  Which of these side dishes aretypically served at your Thanksgiving dinner? Please select all that apply. - Yams/sweet potato casserole  \\\n",
       "0                        Yams/sweet potato casserole                                                                                        \n",
       "1                        Yams/sweet potato casserole                                                                                        \n",
       "2                                                NaN                                                                                        \n",
       "3                        Yams/sweet potato casserole                                                                                        \n",
       "4                        Yams/sweet potato casserole                                                                                        \n",
       "\n",
       "  Which of these side dishes aretypically served at your Thanksgiving dinner? Please select all that apply. - Other (please specify)  \\\n",
       "0                                                NaN                                                                                   \n",
       "1                             Other (please specify)                                                                                   \n",
       "2                                                NaN                                                                                   \n",
       "3                                                NaN                                                                                   \n",
       "4                                                NaN                                                                                   \n",
       "\n",
       "          ...          \\\n",
       "0         ...           \n",
       "1         ...           \n",
       "2         ...           \n",
       "3         ...           \n",
       "4         ...           \n",
       "\n",
       "  Which of these desserts do you typically have at Thanksgiving dinner? Please select all that apply.   - Blondies  \\\n",
       "0                                                NaN                                                                 \n",
       "1                                                NaN                                                                 \n",
       "2                                                NaN                                                                 \n",
       "3                                                NaN                                                                 \n",
       "4                                                NaN                                                                 \n",
       "\n",
       "  Which of these desserts do you typically have at Thanksgiving dinner? Please select all that apply.   - Brownies  \\\n",
       "0                                                NaN                                                                 \n",
       "1                                                NaN                                                                 \n",
       "2                                           Brownies                                                                 \n",
       "3                                                NaN                                                                 \n",
       "4                                                NaN                                                                 \n",
       "\n",
       "  Which of these desserts do you typically have at Thanksgiving dinner? Please select all that apply.   - Carrot cake  \\\n",
       "0                                                NaN                                                                    \n",
       "1                                                NaN                                                                    \n",
       "2                                        Carrot cake                                                                    \n",
       "3                                                NaN                                                                    \n",
       "4                                                NaN                                                                    \n",
       "\n",
       "  Which of these desserts do you typically have at Thanksgiving dinner? Please select all that apply.   - Cheesecake  \\\n",
       "0                                         Cheesecake                                                                   \n",
       "1                                         Cheesecake                                                                   \n",
       "2                                                NaN                                                                   \n",
       "3                                                NaN                                                                   \n",
       "4                                                NaN                                                                   \n",
       "\n",
       "  Which of these desserts do you typically have at Thanksgiving dinner? Please select all that apply.   - Cookies  \\\n",
       "0                                            Cookies                                                                \n",
       "1                                            Cookies                                                                \n",
       "2                                            Cookies                                                                \n",
       "3                                                NaN                                                                \n",
       "4                                                NaN                                                                \n",
       "\n",
       "  Which of these desserts do you typically have at Thanksgiving dinner? Please select all that apply.   - Fudge  \\\n",
       "0                                                NaN                                                              \n",
       "1                                                NaN                                                              \n",
       "2                                              Fudge                                                              \n",
       "3                                                NaN                                                              \n",
       "4                                                NaN                                                              \n",
       "\n",
       "  Which of these desserts do you typically have at Thanksgiving dinner? Please select all that apply.   - Ice cream  \\\n",
       "0                                          Ice cream                                                                  \n",
       "1                                                NaN                                                                  \n",
       "2                                          Ice cream                                                                  \n",
       "3                                                NaN                                                                  \n",
       "4                                                NaN                                                                  \n",
       "\n",
       "  Which of these desserts do you typically have at Thanksgiving dinner? Please select all that apply.   - Peach cobbler  \\\n",
       "0                                                NaN                                                                      \n",
       "1                                                NaN                                                                      \n",
       "2                                                NaN                                                                      \n",
       "3                                                NaN                                                                      \n",
       "4                                                NaN                                                                      \n",
       "\n",
       "  Which of these desserts do you typically have at Thanksgiving dinner? Please select all that apply.   - None  \\\n",
       "0                                                NaN                                                             \n",
       "1                                                NaN                                                             \n",
       "2                                                NaN                                                             \n",
       "3                                               None                                                             \n",
       "4                                               None                                                             \n",
       "\n",
       "  Which of these desserts do you typically have at Thanksgiving dinner? Please select all that apply.   - Other (please specify)  \\\n",
       "0                                                NaN                                                                               \n",
       "1                             Other (please specify)                                                                               \n",
       "2                                                NaN                                                                               \n",
       "3                                                NaN                                                                               \n",
       "4                                                NaN                                                                               \n",
       "\n",
       "  Which of these desserts do you typically have at Thanksgiving dinner? Please select all that apply.   - Other (please specify).1  \\\n",
       "0                                                NaN                                                                                 \n",
       "1  Jelly roll, sweet cheeseball, chocolate dipped...                                                                                 \n",
       "2                                                NaN                                                                                 \n",
       "3                                                NaN                                                                                 \n",
       "4                                                NaN                                                                                 \n",
       "\n",
       "  Do you typically pray before or after the Thanksgiving meal?  \\\n",
       "0                                                Yes             \n",
       "1                                                Yes             \n",
       "2                                                Yes             \n",
       "3                                                 No             \n",
       "4                                                 No             \n",
       "\n",
       "           How far will you travel for Thanksgiving?  \\\n",
       "0  Thanksgiving is local--it will take place in t...   \n",
       "1  Thanksgiving is out of town but not too far--i...   \n",
       "2  Thanksgiving is local--it will take place in t...   \n",
       "3  Thanksgiving is local--it will take place in t...   \n",
       "4  Thanksgiving is out of town but not too far--i...   \n",
       "\n",
       "  Will you watch any of the following programs on Thanksgiving? Please select all that apply. - Macy's Parade  \\\n",
       "0                                                NaN                                                            \n",
       "1                                                NaN                                                            \n",
       "2                                                NaN                                                            \n",
       "3                                                NaN                                                            \n",
       "4                                                NaN                                                            \n",
       "\n",
       "  What's the age cutoff at your \"kids' table\" at Thanksgiving?  \\\n",
       "0                                                 12             \n",
       "1                                                 19             \n",
       "2                                                 13             \n",
       "3                                      10 or younger             \n",
       "4                                      10 or younger             \n",
       "\n",
       "  Have you ever tried to meet up with hometown friends on Thanksgiving night?  \\\n",
       "0                                                Yes                            \n",
       "1                                                 No                            \n",
       "2                                                Yes                            \n",
       "3                                                Yes                            \n",
       "4                                                Yes                            \n",
       "\n",
       "  Have you ever attended a \"Friendsgiving?\"  \\\n",
       "0                                        No   \n",
       "1                                        No   \n",
       "2                                       Yes   \n",
       "3                                        No   \n",
       "4                                        No   \n",
       "\n",
       "  Will you shop any Black Friday sales on Thanksgiving Day?  \\\n",
       "0                                                 No          \n",
       "1                                                Yes          \n",
       "2                                                Yes          \n",
       "3                                                 No          \n",
       "4                                                 No          \n",
       "\n",
       "  Do you work in retail? Will you employer make you work on Black Friday?  \\\n",
       "0                     No                                              NaN   \n",
       "1                     No                                              NaN   \n",
       "2                     No                                              NaN   \n",
       "3                     No                                              NaN   \n",
       "4                     No                                              NaN   \n",
       "\n",
       "  How would you describe where you live?      Age What is your gender?  \\\n",
       "0                               Suburban  18 - 29                 Male   \n",
       "1                                  Rural  18 - 29               Female   \n",
       "2                               Suburban  18 - 29                 Male   \n",
       "3                                  Urban  30 - 44                 Male   \n",
       "4                                  Urban  30 - 44                 Male   \n",
       "\n",
       "  How much total combined money did all members of your HOUSEHOLD earn last year?  \\\n",
       "0                                 $75,000 to $99,999                                \n",
       "1                                 $50,000 to $74,999                                \n",
       "2                                       $0 to $9,999                                \n",
       "3                                    $200,000 and up                                \n",
       "4                               $100,000 to $124,999                                \n",
       "\n",
       "            US Region  \n",
       "0     Middle Atlantic  \n",
       "1  East South Central  \n",
       "2            Mountain  \n",
       "3             Pacific  \n",
       "4             Pacific  \n",
       "\n",
       "[5 rows x 65 columns]"
      ]
     },
     "execution_count": 23,
     "metadata": {},
     "output_type": "execute_result"
    }
   ],
   "source": [
    "import pandas as pd\n",
    "pd.options.display.max_columns = 50\n",
    "data = pd.read_csv(\"thanksgiving.csv\", encoding=\"Latin-1\")\n",
    "data.head(5)"
   ]
  },
  {
   "cell_type": "code",
   "execution_count": 24,
   "metadata": {},
   "outputs": [
    {
     "data": {
      "text/plain": [
       "Index(['RespondentID', 'Do you celebrate Thanksgiving?',\n",
       "       'What is typically the main dish at your Thanksgiving dinner?',\n",
       "       'What is typically the main dish at your Thanksgiving dinner? - Other (please specify)',\n",
       "       'How is the main dish typically cooked?',\n",
       "       'How is the main dish typically cooked? - Other (please specify)',\n",
       "       'What kind of stuffing/dressing do you typically have?',\n",
       "       'What kind of stuffing/dressing do you typically have? - Other (please specify)',\n",
       "       'What type of cranberry saucedo you typically have?',\n",
       "       'What type of cranberry saucedo you typically have? - Other (please specify)',\n",
       "       'Do you typically have gravy?',\n",
       "       'Which of these side dishes aretypically served at your Thanksgiving dinner? Please select all that apply. - Brussel sprouts',\n",
       "       'Which of these side dishes aretypically served at your Thanksgiving dinner? Please select all that apply. - Carrots',\n",
       "       'Which of these side dishes aretypically served at your Thanksgiving dinner? Please select all that apply. - Cauliflower',\n",
       "       'Which of these side dishes aretypically served at your Thanksgiving dinner? Please select all that apply. - Corn',\n",
       "       'Which of these side dishes aretypically served at your Thanksgiving dinner? Please select all that apply. - Cornbread',\n",
       "       'Which of these side dishes aretypically served at your Thanksgiving dinner? Please select all that apply. - Fruit salad',\n",
       "       'Which of these side dishes aretypically served at your Thanksgiving dinner? Please select all that apply. - Green beans/green bean casserole',\n",
       "       'Which of these side dishes aretypically served at your Thanksgiving dinner? Please select all that apply. - Macaroni and cheese',\n",
       "       'Which of these side dishes aretypically served at your Thanksgiving dinner? Please select all that apply. - Mashed potatoes',\n",
       "       'Which of these side dishes aretypically served at your Thanksgiving dinner? Please select all that apply. - Rolls/biscuits',\n",
       "       'Which of these side dishes aretypically served at your Thanksgiving dinner? Please select all that apply. - Squash',\n",
       "       'Which of these side dishes aretypically served at your Thanksgiving dinner? Please select all that apply. - Vegetable salad',\n",
       "       'Which of these side dishes aretypically served at your Thanksgiving dinner? Please select all that apply. - Yams/sweet potato casserole',\n",
       "       'Which of these side dishes aretypically served at your Thanksgiving dinner? Please select all that apply. - Other (please specify)',\n",
       "       'Which of these side dishes aretypically served at your Thanksgiving dinner? Please select all that apply. - Other (please specify).1',\n",
       "       'Which type of pie is typically served at your Thanksgiving dinner? Please select all that apply. - Apple',\n",
       "       'Which type of pie is typically served at your Thanksgiving dinner? Please select all that apply. - Buttermilk',\n",
       "       'Which type of pie is typically served at your Thanksgiving dinner? Please select all that apply. - Cherry',\n",
       "       'Which type of pie is typically served at your Thanksgiving dinner? Please select all that apply. - Chocolate',\n",
       "       'Which type of pie is typically served at your Thanksgiving dinner? Please select all that apply. - Coconut cream',\n",
       "       'Which type of pie is typically served at your Thanksgiving dinner? Please select all that apply. - Key lime',\n",
       "       'Which type of pie is typically served at your Thanksgiving dinner? Please select all that apply. - Peach',\n",
       "       'Which type of pie is typically served at your Thanksgiving dinner? Please select all that apply. - Pecan',\n",
       "       'Which type of pie is typically served at your Thanksgiving dinner? Please select all that apply. - Pumpkin',\n",
       "       'Which type of pie is typically served at your Thanksgiving dinner? Please select all that apply. - Sweet Potato',\n",
       "       'Which type of pie is typically served at your Thanksgiving dinner? Please select all that apply. - None',\n",
       "       'Which type of pie is typically served at your Thanksgiving dinner? Please select all that apply. - Other (please specify)',\n",
       "       'Which type of pie is typically served at your Thanksgiving dinner? Please select all that apply. - Other (please specify).1',\n",
       "       'Which of these desserts do you typically have at Thanksgiving dinner? Please select all that apply.   - Apple cobbler',\n",
       "       'Which of these desserts do you typically have at Thanksgiving dinner? Please select all that apply.   - Blondies',\n",
       "       'Which of these desserts do you typically have at Thanksgiving dinner? Please select all that apply.   - Brownies',\n",
       "       'Which of these desserts do you typically have at Thanksgiving dinner? Please select all that apply.   - Carrot cake',\n",
       "       'Which of these desserts do you typically have at Thanksgiving dinner? Please select all that apply.   - Cheesecake',\n",
       "       'Which of these desserts do you typically have at Thanksgiving dinner? Please select all that apply.   - Cookies',\n",
       "       'Which of these desserts do you typically have at Thanksgiving dinner? Please select all that apply.   - Fudge',\n",
       "       'Which of these desserts do you typically have at Thanksgiving dinner? Please select all that apply.   - Ice cream',\n",
       "       'Which of these desserts do you typically have at Thanksgiving dinner? Please select all that apply.   - Peach cobbler',\n",
       "       'Which of these desserts do you typically have at Thanksgiving dinner? Please select all that apply.   - None',\n",
       "       'Which of these desserts do you typically have at Thanksgiving dinner? Please select all that apply.   - Other (please specify)',\n",
       "       'Which of these desserts do you typically have at Thanksgiving dinner? Please select all that apply.   - Other (please specify).1',\n",
       "       'Do you typically pray before or after the Thanksgiving meal?',\n",
       "       'How far will you travel for Thanksgiving?',\n",
       "       'Will you watch any of the following programs on Thanksgiving? Please select all that apply. - Macy's Parade',\n",
       "       'What's the age cutoff at your \"kids' table\" at Thanksgiving?',\n",
       "       'Have you ever tried to meet up with hometown friends on Thanksgiving night?',\n",
       "       'Have you ever attended a \"Friendsgiving?\"',\n",
       "       'Will you shop any Black Friday sales on Thanksgiving Day?',\n",
       "       'Do you work in retail?',\n",
       "       'Will you employer make you work on Black Friday?',\n",
       "       'How would you describe where you live?', 'Age', 'What is your gender?',\n",
       "       'How much total combined money did all members of your HOUSEHOLD earn last year?',\n",
       "       'US Region'],\n",
       "      dtype='object')"
      ]
     },
     "execution_count": 24,
     "metadata": {},
     "output_type": "execute_result"
    }
   ],
   "source": [
    "data.columns"
   ]
  },
  {
   "cell_type": "markdown",
   "metadata": {},
   "source": [
    "## Filtering Out Rows From A DataFrame"
   ]
  },
  {
   "cell_type": "markdown",
   "metadata": {},
   "source": [
    "Because we want to understand what people ate for Thanksgiving, we'll remove any responses from people who don't celebrate it. We only keep data people who answered \"Yes\""
   ]
  },
  {
   "cell_type": "code",
   "execution_count": 25,
   "metadata": {},
   "outputs": [
    {
     "data": {
      "text/plain": [
       "Yes    980\n",
       "No      78\n",
       "Name: Do you celebrate Thanksgiving?, dtype: int64"
      ]
     },
     "execution_count": 25,
     "metadata": {},
     "output_type": "execute_result"
    }
   ],
   "source": [
    "data[\"Do you celebrate Thanksgiving?\"].value_counts()"
   ]
  },
  {
   "cell_type": "code",
   "execution_count": 26,
   "metadata": {
    "collapsed": true
   },
   "outputs": [],
   "source": [
    "data = data[data[\"Do you celebrate Thanksgiving?\"]==\"Yes\"]"
   ]
  },
  {
   "cell_type": "markdown",
   "metadata": {},
   "source": [
    "## To Explore Main Dishes\n"
   ]
  },
  {
   "cell_type": "code",
   "execution_count": 27,
   "metadata": {},
   "outputs": [
    {
     "data": {
      "text/plain": [
       "Turkey                    859\n",
       "Other (please specify)     35\n",
       "Ham/Pork                   29\n",
       "Tofurkey                   20\n",
       "Chicken                    12\n",
       "Roast beef                 11\n",
       "I don't know                5\n",
       "Turducken                   3\n",
       "Name: What is typically the main dish at your Thanksgiving dinner?, dtype: int64"
      ]
     },
     "execution_count": 27,
     "metadata": {},
     "output_type": "execute_result"
    }
   ],
   "source": [
    "data[\"What is typically the main dish at your Thanksgiving dinner?\"].value_counts()"
   ]
  },
  {
   "cell_type": "markdown",
   "metadata": {},
   "source": [
    "The main dish people tend to eat during Thanksgiving dinner is Turkey because Turkey is the traditional food during Thanksgiving."
   ]
  },
  {
   "cell_type": "code",
   "execution_count": 28,
   "metadata": {},
   "outputs": [
    {
     "data": {
      "text/plain": [
       "Yes    12\n",
       "No      8\n",
       "Name: Do you typically have gravy?, dtype: int64"
      ]
     },
     "execution_count": 28,
     "metadata": {},
     "output_type": "execute_result"
    }
   ],
   "source": [
    "data[data[\"What is typically the main dish at your Thanksgiving dinner?\"]==\"Tofurkey\"][\"Do you typically have gravy?\"].value_counts()"
   ]
  },
  {
   "cell_type": "markdown",
   "metadata": {},
   "source": [
    "There are more people eat Tofurkey with gravy. "
   ]
  },
  {
   "cell_type": "markdown",
   "metadata": {},
   "source": [
    "## Figuring Out What Pies People Eat"
   ]
  },
  {
   "cell_type": "code",
   "execution_count": 30,
   "metadata": {
    "collapsed": true
   },
   "outputs": [],
   "source": [
    "apple_isnull = pd.isnull(data[\"Which type of pie is typically served at your Thanksgiving dinner? Please select all that apply. - Apple\"])\n",
    "pumpkin_isnull = pd.isnull(data[\"Which type of pie is typically served at your Thanksgiving dinner? Please select all that apply. - Pumpkin\"])\n",
    "pecan_isnull = pd.isnull(data[\"Which type of pie is typically served at your Thanksgiving dinner? Please select all that apply. - Pecan\"])\n"
   ]
  },
  {
   "cell_type": "code",
   "execution_count": 31,
   "metadata": {
    "collapsed": true
   },
   "outputs": [],
   "source": [
    "ate_pies = (pumpkin_isnull&apple_isnull)&pecan_isnull\n"
   ]
  },
  {
   "cell_type": "code",
   "execution_count": 9,
   "metadata": {},
   "outputs": [
    {
     "data": {
      "text/plain": [
       "False    876\n",
       "True     104\n",
       "dtype: int64"
      ]
     },
     "execution_count": 9,
     "metadata": {},
     "output_type": "execute_result"
    }
   ],
   "source": [
    "ate_pies.value_counts()"
   ]
  },
  {
   "cell_type": "markdown",
   "metadata": {},
   "source": [
    "10.4% people do not eat one of Apple, Pecan, or Pumpkin. This means that most of the people have at lease one type of pies during Thanksgiving."
   ]
  },
  {
   "cell_type": "markdown",
   "metadata": {},
   "source": [
    "## Converting Age And Income To Numeric"
   ]
  },
  {
   "cell_type": "code",
   "execution_count": 10,
   "metadata": {},
   "outputs": [
    {
     "data": {
      "text/plain": [
       "45 - 59    269\n",
       "60+        258\n",
       "30 - 44    235\n",
       "18 - 29    185\n",
       "Name: Age, dtype: int64"
      ]
     },
     "execution_count": 10,
     "metadata": {},
     "output_type": "execute_result"
    }
   ],
   "source": [
    "data[\"Age\"].value_counts()"
   ]
  },
  {
   "cell_type": "code",
   "execution_count": 32,
   "metadata": {
    "collapsed": true
   },
   "outputs": [],
   "source": [
    "def extract(age):\n",
    "    if pd.isnull(age):\n",
    "        return None\n",
    "    age = age.split(\" \")[0]\n",
    "    age = age.replace(\"+\",\"\")\n",
    "    age = int(age)\n",
    "    return age\n"
   ]
  },
  {
   "cell_type": "code",
   "execution_count": 33,
   "metadata": {},
   "outputs": [
    {
     "data": {
      "text/plain": [
       "count    947.000000\n",
       "mean      40.089757\n",
       "std       15.352014\n",
       "min       18.000000\n",
       "25%       30.000000\n",
       "50%       45.000000\n",
       "75%       60.000000\n",
       "max       60.000000\n",
       "Name: int_age, dtype: float64"
      ]
     },
     "execution_count": 33,
     "metadata": {},
     "output_type": "execute_result"
    }
   ],
   "source": [
    "data[\"int_age\"] = data[\"Age\"].apply(extract)\n",
    "data[\"int_age\"].describe()"
   ]
  },
  {
   "cell_type": "code",
   "execution_count": 34,
   "metadata": {
    "collapsed": true
   },
   "outputs": [],
   "source": [
    "def extract_income(income_str):\n",
    "    if pd.isnull(income_str):\n",
    "        return None\n",
    "    income = income_str.split(\" \")[0]\n",
    "    if income == \"Prefer\":\n",
    "        return None\n",
    "    \n",
    "    income = income.replace(\"$\",\"\")\n",
    "    income = income.replace(\",\",\"\")\n",
    "    \n",
    "    income = int(income)\n",
    "    return income\n"
   ]
  },
  {
   "cell_type": "code",
   "execution_count": 35,
   "metadata": {
    "scrolled": true
   },
   "outputs": [
    {
     "data": {
      "text/plain": [
       "count       829.000000\n",
       "mean      75965.018094\n",
       "std       59068.636748\n",
       "min           0.000000\n",
       "25%       25000.000000\n",
       "50%       75000.000000\n",
       "75%      100000.000000\n",
       "max      200000.000000\n",
       "Name: int_income, dtype: float64"
      ]
     },
     "execution_count": 35,
     "metadata": {},
     "output_type": "execute_result"
    }
   ],
   "source": [
    "data[\"int_income\"] = data[\"How much total combined money did all members of your HOUSEHOLD earn last year?\"].apply(extract_income)\n",
    "data[\"int_income\"].describe()"
   ]
  },
  {
   "cell_type": "markdown",
   "metadata": {},
   "source": [
    "## Findings\n",
    "We took the lower bound of income as entries, but the average income seems to be fairly high. There is also a large standard deviation."
   ]
  },
  {
   "cell_type": "markdown",
   "metadata": {},
   "source": [
    "## Correlating Travel Distance And Income"
   ]
  },
  {
   "cell_type": "markdown",
   "metadata": {},
   "source": [
    "We can now see how the distance someone travels for Thanksgiving dinner relates to their income level. It's safe to hypothesize that people earning less money could be younger, and would travel to their parent's houses for Thanksgiving. People earning more are more likely to have Thanksgiving at their house as a result. We can test this by filtering data based on int_income, and seeing what the values in the \"How far will you travel for Thanksgiving?\" column are."
   ]
  },
  {
   "cell_type": "code",
   "execution_count": 36,
   "metadata": {},
   "outputs": [
    {
     "data": {
      "text/plain": [
       "25000.0     166\n",
       "75000.0     127\n",
       "50000.0     127\n",
       "100000.0    109\n",
       "200000.0     76\n",
       "10000.0      60\n",
       "0.0          52\n",
       "125000.0     48\n",
       "150000.0     38\n",
       "175000.0     26\n",
       "Name: int_income, dtype: int64"
      ]
     },
     "execution_count": 36,
     "metadata": {},
     "output_type": "execute_result"
    }
   ],
   "source": [
    "data[\"int_income\"].value_counts()"
   ]
  },
  {
   "cell_type": "code",
   "execution_count": 37,
   "metadata": {},
   "outputs": [
    {
     "data": {
      "text/plain": [
       "Thanksgiving is happening at my home--I won't travel at all                         281\n",
       "Thanksgiving is local--it will take place in the town I live in                     203\n",
       "Thanksgiving is out of town but not too far--it's a drive of a few hours or less    150\n",
       "Thanksgiving is out of town and far away--I have to drive several hours or fly       55\n",
       "Name: How far will you travel for Thanksgiving?, dtype: int64"
      ]
     },
     "execution_count": 37,
     "metadata": {},
     "output_type": "execute_result"
    }
   ],
   "source": [
    "data[data[\"int_income\"]<150000][\"How far will you travel for Thanksgiving?\"].value_counts()"
   ]
  },
  {
   "cell_type": "code",
   "execution_count": 38,
   "metadata": {},
   "outputs": [
    {
     "data": {
      "text/plain": [
       "Thanksgiving is happening at my home--I won't travel at all                         49\n",
       "Thanksgiving is local--it will take place in the town I live in                     25\n",
       "Thanksgiving is out of town but not too far--it's a drive of a few hours or less    16\n",
       "Thanksgiving is out of town and far away--I have to drive several hours or fly      12\n",
       "Name: How far will you travel for Thanksgiving?, dtype: int64"
      ]
     },
     "execution_count": 38,
     "metadata": {},
     "output_type": "execute_result"
    }
   ],
   "source": [
    "data[data[\"int_income\"]>150000][\"How far will you travel for Thanksgiving?\"].value_counts()"
   ]
  },
  {
   "cell_type": "markdown",
   "metadata": {},
   "source": [
    "## Findings\n",
    "In percentage, more people with high income tend to be at home than people with low income. Most of people with high income has their own home, they do not need to travel at all. The low income like students need to come back home during the breaks=. "
   ]
  },
  {
   "cell_type": "markdown",
   "metadata": {},
   "source": [
    "## Linking Friendship And Age\n",
    "There are two columns which directly pertain to friendship, \"Have you ever tried to meet up with hometown friends on Thanksgiving night?\", and \"Have you ever attended a \"Friendsgiving?\". In the US, a \"Friendsgiving\" is when instead of traveling home for the holiday, you celebrate it with friends who live in your area. Both questions seem skewed towards younger people. Let's see if this hypothesis holds up.\n",
    "\n"
   ]
  },
  {
   "cell_type": "code",
   "execution_count": 39,
   "metadata": {},
   "outputs": [
    {
     "data": {
      "text/html": [
       "<div>\n",
       "<style>\n",
       "    .dataframe thead tr:only-child th {\n",
       "        text-align: right;\n",
       "    }\n",
       "\n",
       "    .dataframe thead th {\n",
       "        text-align: left;\n",
       "    }\n",
       "\n",
       "    .dataframe tbody tr th {\n",
       "        vertical-align: top;\n",
       "    }\n",
       "</style>\n",
       "<table border=\"1\" class=\"dataframe\">\n",
       "  <thead>\n",
       "    <tr style=\"text-align: right;\">\n",
       "      <th>Have you ever attended a \"Friendsgiving?\"</th>\n",
       "      <th>No</th>\n",
       "      <th>Yes</th>\n",
       "    </tr>\n",
       "    <tr>\n",
       "      <th>Have you ever tried to meet up with hometown friends on Thanksgiving night?</th>\n",
       "      <th></th>\n",
       "      <th></th>\n",
       "    </tr>\n",
       "  </thead>\n",
       "  <tbody>\n",
       "    <tr>\n",
       "      <th>No</th>\n",
       "      <td>42.283702</td>\n",
       "      <td>37.010526</td>\n",
       "    </tr>\n",
       "    <tr>\n",
       "      <th>Yes</th>\n",
       "      <td>41.475410</td>\n",
       "      <td>33.976744</td>\n",
       "    </tr>\n",
       "  </tbody>\n",
       "</table>\n",
       "</div>"
      ],
      "text/plain": [
       "Have you ever attended a \"Friendsgiving?\"                  No        Yes\n",
       "Have you ever tried to meet up with hometown fr...                      \n",
       "No                                                  42.283702  37.010526\n",
       "Yes                                                 41.475410  33.976744"
      ]
     },
     "execution_count": 39,
     "metadata": {},
     "output_type": "execute_result"
    }
   ],
   "source": [
    "data.pivot_table(\n",
    "    index = \"Have you ever tried to meet up with hometown friends on Thanksgiving night?\", \n",
    "    columns = 'Have you ever attended a \"Friendsgiving?\"',\n",
    "    values = \"int_age\"\n",
    ")"
   ]
  },
  {
   "cell_type": "code",
   "execution_count": 40,
   "metadata": {},
   "outputs": [
    {
     "data": {
      "text/html": [
       "<div>\n",
       "<style>\n",
       "    .dataframe thead tr:only-child th {\n",
       "        text-align: right;\n",
       "    }\n",
       "\n",
       "    .dataframe thead th {\n",
       "        text-align: left;\n",
       "    }\n",
       "\n",
       "    .dataframe tbody tr th {\n",
       "        vertical-align: top;\n",
       "    }\n",
       "</style>\n",
       "<table border=\"1\" class=\"dataframe\">\n",
       "  <thead>\n",
       "    <tr style=\"text-align: right;\">\n",
       "      <th>Have you ever attended a \"Friendsgiving?\"</th>\n",
       "      <th>No</th>\n",
       "      <th>Yes</th>\n",
       "    </tr>\n",
       "    <tr>\n",
       "      <th>Have you ever tried to meet up with hometown friends on Thanksgiving night?</th>\n",
       "      <th></th>\n",
       "      <th></th>\n",
       "    </tr>\n",
       "  </thead>\n",
       "  <tbody>\n",
       "    <tr>\n",
       "      <th>No</th>\n",
       "      <td>78914.549654</td>\n",
       "      <td>72894.736842</td>\n",
       "    </tr>\n",
       "    <tr>\n",
       "      <th>Yes</th>\n",
       "      <td>78750.000000</td>\n",
       "      <td>66019.736842</td>\n",
       "    </tr>\n",
       "  </tbody>\n",
       "</table>\n",
       "</div>"
      ],
      "text/plain": [
       "Have you ever attended a \"Friendsgiving?\"                     No           Yes\n",
       "Have you ever tried to meet up with hometown fr...                            \n",
       "No                                                  78914.549654  72894.736842\n",
       "Yes                                                 78750.000000  66019.736842"
      ]
     },
     "execution_count": 40,
     "metadata": {},
     "output_type": "execute_result"
    }
   ],
   "source": [
    "data.pivot_table(\n",
    "    index = \"Have you ever tried to meet up with hometown friends on Thanksgiving night?\", \n",
    "    columns = 'Have you ever attended a \"Friendsgiving?\"',\n",
    "    values = \"int_income\"\n",
    ")"
   ]
  },
  {
   "cell_type": "markdown",
   "metadata": {},
   "source": [
    "## Findings\n",
    "Most people have ever tried to meet up howetown and attended a \"Friendsgivings\" are young (under 45) and with fairly low income (under 150000)."
   ]
  }
 ],
 "metadata": {
  "kernelspec": {
   "display_name": "Python 3",
   "language": "python",
   "name": "python3"
  },
  "language_info": {
   "codemirror_mode": {
    "name": "ipython",
    "version": 3
   },
   "file_extension": ".py",
   "mimetype": "text/x-python",
   "name": "python",
   "nbconvert_exporter": "python",
   "pygments_lexer": "ipython3",
   "version": "3.6.1"
  }
 },
 "nbformat": 4,
 "nbformat_minor": 2
}
